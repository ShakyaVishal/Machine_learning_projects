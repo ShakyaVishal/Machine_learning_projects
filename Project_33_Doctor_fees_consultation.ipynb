{
 "cells": [
  {
   "cell_type": "code",
   "execution_count": 1,
   "metadata": {},
   "outputs": [],
   "source": [
    "import pandas as pd\n",
    "import numpy as np\n",
    "import seaborn as sns\n",
    "import matplotlib.pyplot as plt\n",
    "import warnings\n",
    "warnings.filterwarnings('ignore')"
   ]
  },
  {
   "cell_type": "code",
   "execution_count": 2,
   "metadata": {},
   "outputs": [],
   "source": [
    "Traindf=pd.read_excel('Final_Train.xlsx')"
   ]
  },
  {
   "cell_type": "code",
   "execution_count": 3,
   "metadata": {},
   "outputs": [
    {
     "data": {
      "text/html": [
       "<div>\n",
       "<style scoped>\n",
       "    .dataframe tbody tr th:only-of-type {\n",
       "        vertical-align: middle;\n",
       "    }\n",
       "\n",
       "    .dataframe tbody tr th {\n",
       "        vertical-align: top;\n",
       "    }\n",
       "\n",
       "    .dataframe thead th {\n",
       "        text-align: right;\n",
       "    }\n",
       "</style>\n",
       "<table border=\"1\" class=\"dataframe\">\n",
       "  <thead>\n",
       "    <tr style=\"text-align: right;\">\n",
       "      <th></th>\n",
       "      <th>Qualification</th>\n",
       "      <th>Experience</th>\n",
       "      <th>Rating</th>\n",
       "      <th>Place</th>\n",
       "      <th>Profile</th>\n",
       "      <th>Miscellaneous_Info</th>\n",
       "      <th>Fees</th>\n",
       "    </tr>\n",
       "  </thead>\n",
       "  <tbody>\n",
       "    <tr>\n",
       "      <th>0</th>\n",
       "      <td>BHMS, MD - Homeopathy</td>\n",
       "      <td>24 years experience</td>\n",
       "      <td>100%</td>\n",
       "      <td>Kakkanad, Ernakulam</td>\n",
       "      <td>Homeopath</td>\n",
       "      <td>100% 16 Feedback Kakkanad, Ernakulam</td>\n",
       "      <td>100</td>\n",
       "    </tr>\n",
       "    <tr>\n",
       "      <th>1</th>\n",
       "      <td>BAMS, MD - Ayurveda Medicine</td>\n",
       "      <td>12 years experience</td>\n",
       "      <td>98%</td>\n",
       "      <td>Whitefield, Bangalore</td>\n",
       "      <td>Ayurveda</td>\n",
       "      <td>98% 76 Feedback Whitefield, Bangalore</td>\n",
       "      <td>350</td>\n",
       "    </tr>\n",
       "    <tr>\n",
       "      <th>2</th>\n",
       "      <td>MBBS, MS - Otorhinolaryngology</td>\n",
       "      <td>9 years experience</td>\n",
       "      <td>NaN</td>\n",
       "      <td>Mathikere - BEL, Bangalore</td>\n",
       "      <td>ENT Specialist</td>\n",
       "      <td>NaN</td>\n",
       "      <td>300</td>\n",
       "    </tr>\n",
       "    <tr>\n",
       "      <th>3</th>\n",
       "      <td>BSc - Zoology, BAMS</td>\n",
       "      <td>12 years experience</td>\n",
       "      <td>NaN</td>\n",
       "      <td>Bannerghatta Road, Bangalore</td>\n",
       "      <td>Ayurveda</td>\n",
       "      <td>Bannerghatta Road, Bangalore ₹250 Available on...</td>\n",
       "      <td>250</td>\n",
       "    </tr>\n",
       "    <tr>\n",
       "      <th>4</th>\n",
       "      <td>BAMS</td>\n",
       "      <td>20 years experience</td>\n",
       "      <td>100%</td>\n",
       "      <td>Keelkattalai, Chennai</td>\n",
       "      <td>Ayurveda</td>\n",
       "      <td>100% 4 Feedback Keelkattalai, Chennai</td>\n",
       "      <td>250</td>\n",
       "    </tr>\n",
       "  </tbody>\n",
       "</table>\n",
       "</div>"
      ],
      "text/plain": [
       "                    Qualification           Experience Rating  \\\n",
       "0           BHMS, MD - Homeopathy  24 years experience   100%   \n",
       "1    BAMS, MD - Ayurveda Medicine  12 years experience    98%   \n",
       "2  MBBS, MS - Otorhinolaryngology   9 years experience    NaN   \n",
       "3             BSc - Zoology, BAMS  12 years experience    NaN   \n",
       "4                            BAMS  20 years experience   100%   \n",
       "\n",
       "                          Place         Profile  \\\n",
       "0           Kakkanad, Ernakulam       Homeopath   \n",
       "1         Whitefield, Bangalore        Ayurveda   \n",
       "2    Mathikere - BEL, Bangalore  ENT Specialist   \n",
       "3  Bannerghatta Road, Bangalore        Ayurveda   \n",
       "4         Keelkattalai, Chennai        Ayurveda   \n",
       "\n",
       "                                  Miscellaneous_Info  Fees  \n",
       "0               100% 16 Feedback Kakkanad, Ernakulam   100  \n",
       "1              98% 76 Feedback Whitefield, Bangalore   350  \n",
       "2                                                NaN   300  \n",
       "3  Bannerghatta Road, Bangalore ₹250 Available on...   250  \n",
       "4              100% 4 Feedback Keelkattalai, Chennai   250  "
      ]
     },
     "execution_count": 3,
     "metadata": {},
     "output_type": "execute_result"
    }
   ],
   "source": [
    "Traindf.head()"
   ]
  },
  {
   "cell_type": "code",
   "execution_count": 4,
   "metadata": {},
   "outputs": [
    {
     "data": {
      "text/plain": [
       "(5961, 7)"
      ]
     },
     "execution_count": 4,
     "metadata": {},
     "output_type": "execute_result"
    }
   ],
   "source": [
    "Traindf.shape"
   ]
  },
  {
   "cell_type": "code",
   "execution_count": 5,
   "metadata": {},
   "outputs": [
    {
     "data": {
      "text/plain": [
       "Qualification            0\n",
       "Experience               0\n",
       "Rating                3302\n",
       "Place                   25\n",
       "Profile                  0\n",
       "Miscellaneous_Info    2620\n",
       "Fees                     0\n",
       "dtype: int64"
      ]
     },
     "execution_count": 5,
     "metadata": {},
     "output_type": "execute_result"
    }
   ],
   "source": [
    "Traindf.isnull().sum()"
   ]
  },
  {
   "cell_type": "code",
   "execution_count": 6,
   "metadata": {},
   "outputs": [],
   "source": [
    "Testdf=pd.read_excel('Final_Test.xlsx')"
   ]
  },
  {
   "cell_type": "code",
   "execution_count": 7,
   "metadata": {},
   "outputs": [
    {
     "data": {
      "text/html": [
       "<div>\n",
       "<style scoped>\n",
       "    .dataframe tbody tr th:only-of-type {\n",
       "        vertical-align: middle;\n",
       "    }\n",
       "\n",
       "    .dataframe tbody tr th {\n",
       "        vertical-align: top;\n",
       "    }\n",
       "\n",
       "    .dataframe thead th {\n",
       "        text-align: right;\n",
       "    }\n",
       "</style>\n",
       "<table border=\"1\" class=\"dataframe\">\n",
       "  <thead>\n",
       "    <tr style=\"text-align: right;\">\n",
       "      <th></th>\n",
       "      <th>Qualification</th>\n",
       "      <th>Experience</th>\n",
       "      <th>Rating</th>\n",
       "      <th>Place</th>\n",
       "      <th>Profile</th>\n",
       "      <th>Miscellaneous_Info</th>\n",
       "    </tr>\n",
       "  </thead>\n",
       "  <tbody>\n",
       "    <tr>\n",
       "      <th>0</th>\n",
       "      <td>MBBS</td>\n",
       "      <td>35 years experience</td>\n",
       "      <td>NaN</td>\n",
       "      <td>Ghatkopar East, Mumbai</td>\n",
       "      <td>General Medicine</td>\n",
       "      <td>NaN</td>\n",
       "    </tr>\n",
       "    <tr>\n",
       "      <th>1</th>\n",
       "      <td>MBBS, Diploma in Otorhinolaryngology (DLO)</td>\n",
       "      <td>31 years experience</td>\n",
       "      <td>NaN</td>\n",
       "      <td>West Marredpally, Hyderabad</td>\n",
       "      <td>ENT Specialist</td>\n",
       "      <td>NaN</td>\n",
       "    </tr>\n",
       "    <tr>\n",
       "      <th>2</th>\n",
       "      <td>MBBS, DDVL</td>\n",
       "      <td>40 years experience</td>\n",
       "      <td>70%</td>\n",
       "      <td>KK Nagar, Chennai</td>\n",
       "      <td>Dermatologists</td>\n",
       "      <td>70% 4 Feedback KK Nagar, Chennai</td>\n",
       "    </tr>\n",
       "    <tr>\n",
       "      <th>3</th>\n",
       "      <td>BAMS</td>\n",
       "      <td>0 years experience</td>\n",
       "      <td>NaN</td>\n",
       "      <td>New Ashok Nagar, Delhi</td>\n",
       "      <td>Ayurveda</td>\n",
       "      <td>NaN</td>\n",
       "    </tr>\n",
       "    <tr>\n",
       "      <th>4</th>\n",
       "      <td>BDS, MDS - Conservative Dentistry &amp; Endodontics</td>\n",
       "      <td>16 years experience</td>\n",
       "      <td>100%</td>\n",
       "      <td>Kanakpura Road, Bangalore</td>\n",
       "      <td>Dentist</td>\n",
       "      <td>General Dentistry Conservative Dentistry Cosme...</td>\n",
       "    </tr>\n",
       "  </tbody>\n",
       "</table>\n",
       "</div>"
      ],
      "text/plain": [
       "                                     Qualification           Experience  \\\n",
       "0                                             MBBS  35 years experience   \n",
       "1       MBBS, Diploma in Otorhinolaryngology (DLO)  31 years experience   \n",
       "2                                       MBBS, DDVL  40 years experience   \n",
       "3                                             BAMS   0 years experience   \n",
       "4  BDS, MDS - Conservative Dentistry & Endodontics  16 years experience   \n",
       "\n",
       "  Rating                        Place           Profile  \\\n",
       "0    NaN       Ghatkopar East, Mumbai  General Medicine   \n",
       "1    NaN  West Marredpally, Hyderabad    ENT Specialist   \n",
       "2    70%            KK Nagar, Chennai    Dermatologists   \n",
       "3    NaN       New Ashok Nagar, Delhi          Ayurveda   \n",
       "4   100%    Kanakpura Road, Bangalore           Dentist   \n",
       "\n",
       "                                  Miscellaneous_Info  \n",
       "0                                                NaN  \n",
       "1                                                NaN  \n",
       "2                   70% 4 Feedback KK Nagar, Chennai  \n",
       "3                                                NaN  \n",
       "4  General Dentistry Conservative Dentistry Cosme...  "
      ]
     },
     "execution_count": 7,
     "metadata": {},
     "output_type": "execute_result"
    }
   ],
   "source": [
    "Testdf.head()"
   ]
  },
  {
   "cell_type": "code",
   "execution_count": 8,
   "metadata": {},
   "outputs": [
    {
     "data": {
      "text/plain": [
       "(1987, 6)"
      ]
     },
     "execution_count": 8,
     "metadata": {},
     "output_type": "execute_result"
    }
   ],
   "source": [
    "Testdf.shape"
   ]
  },
  {
   "cell_type": "code",
   "execution_count": 9,
   "metadata": {},
   "outputs": [
    {
     "data": {
      "text/plain": [
       "Qualification            0\n",
       "Experience               0\n",
       "Rating                1090\n",
       "Place                    6\n",
       "Profile                  0\n",
       "Miscellaneous_Info     834\n",
       "dtype: int64"
      ]
     },
     "execution_count": 9,
     "metadata": {},
     "output_type": "execute_result"
    }
   ],
   "source": [
    "Testdf.isnull().sum()"
   ]
  },
  {
   "cell_type": "code",
   "execution_count": 10,
   "metadata": {},
   "outputs": [],
   "source": [
    "Traindf['Data']='Train'\n",
    "Testdf['Data']='Test'\n",
    "Testdf['Fees']=0"
   ]
  },
  {
   "cell_type": "code",
   "execution_count": 11,
   "metadata": {},
   "outputs": [
    {
     "data": {
      "text/html": [
       "<div>\n",
       "<style scoped>\n",
       "    .dataframe tbody tr th:only-of-type {\n",
       "        vertical-align: middle;\n",
       "    }\n",
       "\n",
       "    .dataframe tbody tr th {\n",
       "        vertical-align: top;\n",
       "    }\n",
       "\n",
       "    .dataframe thead th {\n",
       "        text-align: right;\n",
       "    }\n",
       "</style>\n",
       "<table border=\"1\" class=\"dataframe\">\n",
       "  <thead>\n",
       "    <tr style=\"text-align: right;\">\n",
       "      <th></th>\n",
       "      <th>Data</th>\n",
       "      <th>Experience</th>\n",
       "      <th>Fees</th>\n",
       "      <th>Miscellaneous_Info</th>\n",
       "      <th>Place</th>\n",
       "      <th>Profile</th>\n",
       "      <th>Qualification</th>\n",
       "      <th>Rating</th>\n",
       "    </tr>\n",
       "  </thead>\n",
       "  <tbody>\n",
       "    <tr>\n",
       "      <th>0</th>\n",
       "      <td>Train</td>\n",
       "      <td>24 years experience</td>\n",
       "      <td>100</td>\n",
       "      <td>100% 16 Feedback Kakkanad, Ernakulam</td>\n",
       "      <td>Kakkanad, Ernakulam</td>\n",
       "      <td>Homeopath</td>\n",
       "      <td>BHMS, MD - Homeopathy</td>\n",
       "      <td>100%</td>\n",
       "    </tr>\n",
       "    <tr>\n",
       "      <th>1</th>\n",
       "      <td>Train</td>\n",
       "      <td>12 years experience</td>\n",
       "      <td>350</td>\n",
       "      <td>98% 76 Feedback Whitefield, Bangalore</td>\n",
       "      <td>Whitefield, Bangalore</td>\n",
       "      <td>Ayurveda</td>\n",
       "      <td>BAMS, MD - Ayurveda Medicine</td>\n",
       "      <td>98%</td>\n",
       "    </tr>\n",
       "    <tr>\n",
       "      <th>2</th>\n",
       "      <td>Train</td>\n",
       "      <td>9 years experience</td>\n",
       "      <td>300</td>\n",
       "      <td>NaN</td>\n",
       "      <td>Mathikere - BEL, Bangalore</td>\n",
       "      <td>ENT Specialist</td>\n",
       "      <td>MBBS, MS - Otorhinolaryngology</td>\n",
       "      <td>NaN</td>\n",
       "    </tr>\n",
       "    <tr>\n",
       "      <th>3</th>\n",
       "      <td>Train</td>\n",
       "      <td>12 years experience</td>\n",
       "      <td>250</td>\n",
       "      <td>Bannerghatta Road, Bangalore ₹250 Available on...</td>\n",
       "      <td>Bannerghatta Road, Bangalore</td>\n",
       "      <td>Ayurveda</td>\n",
       "      <td>BSc - Zoology, BAMS</td>\n",
       "      <td>NaN</td>\n",
       "    </tr>\n",
       "    <tr>\n",
       "      <th>4</th>\n",
       "      <td>Train</td>\n",
       "      <td>20 years experience</td>\n",
       "      <td>250</td>\n",
       "      <td>100% 4 Feedback Keelkattalai, Chennai</td>\n",
       "      <td>Keelkattalai, Chennai</td>\n",
       "      <td>Ayurveda</td>\n",
       "      <td>BAMS</td>\n",
       "      <td>100%</td>\n",
       "    </tr>\n",
       "  </tbody>\n",
       "</table>\n",
       "</div>"
      ],
      "text/plain": [
       "    Data           Experience  Fees  \\\n",
       "0  Train  24 years experience   100   \n",
       "1  Train  12 years experience   350   \n",
       "2  Train   9 years experience   300   \n",
       "3  Train  12 years experience   250   \n",
       "4  Train  20 years experience   250   \n",
       "\n",
       "                                  Miscellaneous_Info  \\\n",
       "0               100% 16 Feedback Kakkanad, Ernakulam   \n",
       "1              98% 76 Feedback Whitefield, Bangalore   \n",
       "2                                                NaN   \n",
       "3  Bannerghatta Road, Bangalore ₹250 Available on...   \n",
       "4              100% 4 Feedback Keelkattalai, Chennai   \n",
       "\n",
       "                          Place         Profile  \\\n",
       "0           Kakkanad, Ernakulam       Homeopath   \n",
       "1         Whitefield, Bangalore        Ayurveda   \n",
       "2    Mathikere - BEL, Bangalore  ENT Specialist   \n",
       "3  Bannerghatta Road, Bangalore        Ayurveda   \n",
       "4         Keelkattalai, Chennai        Ayurveda   \n",
       "\n",
       "                    Qualification Rating  \n",
       "0           BHMS, MD - Homeopathy   100%  \n",
       "1    BAMS, MD - Ayurveda Medicine    98%  \n",
       "2  MBBS, MS - Otorhinolaryngology    NaN  \n",
       "3             BSc - Zoology, BAMS    NaN  \n",
       "4                            BAMS   100%  "
      ]
     },
     "execution_count": 11,
     "metadata": {},
     "output_type": "execute_result"
    }
   ],
   "source": [
    "df=pd.concat([Traindf,Testdf])\n",
    "df.head()"
   ]
  },
  {
   "cell_type": "code",
   "execution_count": 12,
   "metadata": {},
   "outputs": [
    {
     "name": "stdout",
     "output_type": "stream",
     "text": [
      "<class 'pandas.core.frame.DataFrame'>\n",
      "Int64Index: 7948 entries, 0 to 1986\n",
      "Data columns (total 8 columns):\n",
      "Data                  7948 non-null object\n",
      "Experience            7948 non-null object\n",
      "Fees                  7948 non-null int64\n",
      "Miscellaneous_Info    4494 non-null object\n",
      "Place                 7917 non-null object\n",
      "Profile               7948 non-null object\n",
      "Qualification         7948 non-null object\n",
      "Rating                3556 non-null object\n",
      "dtypes: int64(1), object(7)\n",
      "memory usage: 558.8+ KB\n"
     ]
    }
   ],
   "source": [
    "df.info()"
   ]
  },
  {
   "cell_type": "code",
   "execution_count": 13,
   "metadata": {},
   "outputs": [
    {
     "data": {
      "text/plain": [
       "Data                     0\n",
       "Experience               0\n",
       "Fees                     0\n",
       "Miscellaneous_Info    3454\n",
       "Place                   31\n",
       "Profile                  0\n",
       "Qualification            0\n",
       "Rating                4392\n",
       "dtype: int64"
      ]
     },
     "execution_count": 13,
     "metadata": {},
     "output_type": "execute_result"
    }
   ],
   "source": [
    "df.isnull().sum()"
   ]
  },
  {
   "cell_type": "markdown",
   "metadata": {},
   "source": [
    "**Experience Column**"
   ]
  },
  {
   "cell_type": "code",
   "execution_count": 14,
   "metadata": {},
   "outputs": [],
   "source": [
    "df['Experience']=df['Experience'].str.split(' ').str[0]"
   ]
  },
  {
   "cell_type": "code",
   "execution_count": 15,
   "metadata": {},
   "outputs": [],
   "source": [
    "df['Experience']=df['Experience'].astype(int)"
   ]
  },
  {
   "cell_type": "code",
   "execution_count": 16,
   "metadata": {},
   "outputs": [
    {
     "name": "stdout",
     "output_type": "stream",
     "text": [
      "<class 'pandas.core.frame.DataFrame'>\n",
      "Int64Index: 7948 entries, 0 to 1986\n",
      "Data columns (total 8 columns):\n",
      "Data                  7948 non-null object\n",
      "Experience            7948 non-null int32\n",
      "Fees                  7948 non-null int64\n",
      "Miscellaneous_Info    4494 non-null object\n",
      "Place                 7917 non-null object\n",
      "Profile               7948 non-null object\n",
      "Qualification         7948 non-null object\n",
      "Rating                3556 non-null object\n",
      "dtypes: int32(1), int64(1), object(6)\n",
      "memory usage: 527.8+ KB\n"
     ]
    }
   ],
   "source": [
    "df.info()"
   ]
  },
  {
   "cell_type": "markdown",
   "metadata": {},
   "source": [
    "**Place Column**"
   ]
  },
  {
   "cell_type": "code",
   "execution_count": 17,
   "metadata": {},
   "outputs": [],
   "source": [
    "df[\"Place\"].fillna(\"Unknown,Unknown\",inplace=True)\n",
    "df[\"Place\"] = df[\"Place\"].str.split(\",\")\n",
    "df[\"City\"] = df[\"Place\"].str[-1]\n",
    "df[\"Place\"] = df[\"Place\"].str[0]"
   ]
  },
  {
   "cell_type": "code",
   "execution_count": 18,
   "metadata": {},
   "outputs": [
    {
     "data": {
      "text/plain": [
       "Data                     0\n",
       "Experience               0\n",
       "Fees                     0\n",
       "Miscellaneous_Info    3454\n",
       "Place                    0\n",
       "Profile                  0\n",
       "Qualification            0\n",
       "Rating                4392\n",
       "City                     0\n",
       "dtype: int64"
      ]
     },
     "execution_count": 18,
     "metadata": {},
     "output_type": "execute_result"
    }
   ],
   "source": [
    "df.isnull().sum()"
   ]
  },
  {
   "cell_type": "code",
   "execution_count": 19,
   "metadata": {},
   "outputs": [],
   "source": [
    "from sklearn.preprocessing import LabelEncoder\n",
    "le=LabelEncoder()\n",
    "df['City']=le.fit_transform(df['City'])\n",
    "df['Place']=le.fit_transform(df['Place'])"
   ]
  },
  {
   "cell_type": "code",
   "execution_count": 20,
   "metadata": {},
   "outputs": [
    {
     "name": "stdout",
     "output_type": "stream",
     "text": [
      "<class 'pandas.core.frame.DataFrame'>\n",
      "Int64Index: 7948 entries, 0 to 1986\n",
      "Data columns (total 9 columns):\n",
      "Data                  7948 non-null object\n",
      "Experience            7948 non-null int32\n",
      "Fees                  7948 non-null int64\n",
      "Miscellaneous_Info    4494 non-null object\n",
      "Place                 7948 non-null int32\n",
      "Profile               7948 non-null object\n",
      "Qualification         7948 non-null object\n",
      "Rating                3556 non-null object\n",
      "City                  7948 non-null int32\n",
      "dtypes: int32(3), int64(1), object(5)\n",
      "memory usage: 527.8+ KB\n"
     ]
    }
   ],
   "source": [
    "df.info()"
   ]
  },
  {
   "cell_type": "markdown",
   "metadata": {},
   "source": [
    "**Profile Column**"
   ]
  },
  {
   "cell_type": "code",
   "execution_count": 21,
   "metadata": {},
   "outputs": [
    {
     "data": {
      "text/plain": [
       "Dentist             1838\n",
       "General Medicine    1617\n",
       "Dermatologists      1373\n",
       "Homeopath           1120\n",
       "Ayurveda            1037\n",
       "ENT Specialist       963\n",
       "Name: Profile, dtype: int64"
      ]
     },
     "execution_count": 21,
     "metadata": {},
     "output_type": "execute_result"
    }
   ],
   "source": [
    "df['Profile'].value_counts()"
   ]
  },
  {
   "cell_type": "code",
   "execution_count": 22,
   "metadata": {},
   "outputs": [],
   "source": [
    "df['Profile']=le.fit_transform(df['Profile'])"
   ]
  },
  {
   "cell_type": "markdown",
   "metadata": {},
   "source": [
    "**Rating Column**"
   ]
  },
  {
   "cell_type": "code",
   "execution_count": 23,
   "metadata": {},
   "outputs": [
    {
     "data": {
      "text/plain": [
       "array(['100%', '98%', nan, '99%', '79%', '95%', '97%', '94%', '88%',\n",
       "       '90%', '80%', '93%', '36%', '78%', '87%', '96%', '82%', '89%',\n",
       "       '74%', '86%', '92%', '83%', '76%', '85%', '56%', '91%', '68%',\n",
       "       '60%', '75%', '69%', '73%', '67%', '77%', '33%', '55%', '71%',\n",
       "       '84%', '45%', '63%', '72%', '81%', '62%', '57%', '7%', '48%',\n",
       "       '40%', '70%', '64%', '65%', '47%', '58%', '53%', '52%'],\n",
       "      dtype=object)"
      ]
     },
     "execution_count": 23,
     "metadata": {},
     "output_type": "execute_result"
    }
   ],
   "source": [
    "df['Rating'].unique()"
   ]
  },
  {
   "cell_type": "code",
   "execution_count": 24,
   "metadata": {},
   "outputs": [],
   "source": [
    "df['Rating']=df['Rating'].str.split('%').str[0]"
   ]
  },
  {
   "cell_type": "code",
   "execution_count": 25,
   "metadata": {},
   "outputs": [],
   "source": [
    "df['Rating'].fillna('0',inplace=True)"
   ]
  },
  {
   "cell_type": "code",
   "execution_count": 26,
   "metadata": {},
   "outputs": [],
   "source": [
    "df['Rating']=df['Rating'].astype(int)"
   ]
  },
  {
   "cell_type": "markdown",
   "metadata": {},
   "source": [
    "**Qualification Column**"
   ]
  },
  {
   "cell_type": "code",
   "execution_count": 27,
   "metadata": {},
   "outputs": [
    {
     "data": {
      "text/plain": [
       "1801"
      ]
     },
     "execution_count": 27,
     "metadata": {},
     "output_type": "execute_result"
    }
   ],
   "source": [
    "df['Qualification'].nunique()"
   ]
  },
  {
   "cell_type": "code",
   "execution_count": 28,
   "metadata": {},
   "outputs": [
    {
     "data": {
      "text/plain": [
       "BDS                                                                                                                                                                                                                                                                                    632\n",
       "BHMS                                                                                                                                                                                                                                                                                   627\n",
       "BAMS                                                                                                                                                                                                                                                                                   624\n",
       "MBBS                                                                                                                                                                                                                                                                                   441\n",
       "MBBS, MS - ENT                                                                                                                                                                                                                                                                         280\n",
       "MBBS, MD - Dermatology                                                                                                                                                                                                                                                                 242\n",
       "MBBS, MD - General Medicine                                                                                                                                                                                                                                                            227\n",
       "MBBS, MD - Dermatology , Venereology & Leprosy                                                                                                                                                                                                                                         193\n",
       "MBBS, DDVL                                                                                                                                                                                                                                                                             123\n",
       "BHMS, MD - Homeopathy                                                                                                                                                                                                                                                                  120\n",
       "MBBS, Diploma in Otorhinolaryngology (DLO)                                                                                                                                                                                                                                             114\n",
       "BAMS, MD - Ayurveda Medicine                                                                                                                                                                                                                                                           106\n",
       "BDS, MDS - Conservative Dentistry & Endodontics                                                                                                                                                                                                                                         89\n",
       "MBBS, DDV                                                                                                                                                                                                                                                                               81\n",
       "BDS, MDS                                                                                                                                                                                                                                                                                77\n",
       "BDS, MDS - Oral & Maxillofacial Surgery                                                                                                                                                                                                                                                 76\n",
       "MD - Dermatology , Venereology & Leprosy, MBBS                                                                                                                                                                                                                                          66\n",
       "MBBS, MD - Medicine                                                                                                                                                                                                                                                                     62\n",
       "MBBS, MS - Otorhinolaryngology                                                                                                                                                                                                                                                          61\n",
       "BDS, MDS - Prosthodontics                                                                                                                                                                                                                                                               60\n",
       "MBBS, MD - Internal Medicine                                                                                                                                                                                                                                                            54\n",
       "BDS, MDS - Orthodontics                                                                                                                                                                                                                                                                 54\n",
       "MS - ENT, MBBS                                                                                                                                                                                                                                                                          47\n",
       "BDS, MDS - Paedodontics And Preventive Dentistry                                                                                                                                                                                                                                        43\n",
       "BDS, MDS - Periodontology and Oral Implantology                                                                                                                                                                                                                                         41\n",
       "MBBS, Diploma in Otorhinolaryngology (DLO), DNB - ENT                                                                                                                                                                                                                                   37\n",
       "MBBS, Diploma in Dermatology                                                                                                                                                                                                                                                            37\n",
       "BDS, MDS - Orthodontics and Dentofacial Orthopaedics                                                                                                                                                                                                                                    37\n",
       "MD - Dermatology, MBBS                                                                                                                                                                                                                                                                  36\n",
       "BDS, MDS - Prosthodontist And Crown Bridge                                                                                                                                                                                                                                              35\n",
       "                                                                                                                                                                                                                                                                                      ... \n",
       "MBBS, DDVL, DDV                                                                                                                                                                                                                                                                          1\n",
       "BDS, MDS- Oral Pathology, Certificate in Dental Implants, Diploma in Medical Law and Ethics (PGDMLE)                                                                                                                                                                                     1\n",
       "BHMS, PGDHA                                                                                                                                                                                                                                                                              1\n",
       "BDS, MDS - Periodontology and Oral Implantology, Post-Graduate Certificate in Oral Implantology (PGCOI)                                                                                                                                                                                  1\n",
       "BAMS, Member of the Royal Society for the Promotion of Health (UK) (MRSH)                                                                                                                                                                                                                1\n",
       "BAMS, Diploma In Pharmacy                                                                                                                                                                                                                                                                1\n",
       "BAMS, Fellowship in Applied Nutrition(FAN)                                                                                                                                                                                                                                               1\n",
       "MBBS, MS - Endocrinology & Diabetes, Post Graduate Diploma in Diabetology (PGDD)                                                                                                                                                                                                         1\n",
       "DNB - ENT, MS - ENT, MBBS                                                                                                                                                                                                                                                                1\n",
       "B.Ac, BEMS                                                                                                                                                                                                                                                                               1\n",
       "MBBS, MD - Ophthalmology                                                                                                                                                                                                                                                                 1\n",
       "MBBS, MD - Physician, DNB - General Medicine, Fellowship in Diabetology                                                                                                                                                                                                                  1\n",
       "MBBS, DNB - Family Medicine, Fellowship in Diabetology                                                                                                                                                                                                                                   1\n",
       "DM - Cardiology, MBBS                                                                                                                                                                                                                                                                    1\n",
       "MD - CCM, MD - Physician, Post Graduate Diploma in Diabetology (PGDD), CCST - Diabetes & Endocrinology, Master of Family Medicine, Diploma in Family Medicine (DFM), Postgraduate Diploma Clinical Cardiology (PGDCC), Post Graduate Diploma in Diabetology (PGDD), MD - Cardiology      1\n",
       "MBBS, Post Graduate Diploma in Health Sciences (PGDHSc), Master of Health Sciences (MHSc)                                                                                                                                                                                                1\n",
       "DEHM, BEMS                                                                                                                                                                                                                                                                               1\n",
       "MS - ENT, MBBS, DNB - Otorhinolaryngology                                                                                                                                                                                                                                                1\n",
       "MD - Skin,VD & Leprosy, MBBS, DNB - Dermatology & Venereology                                                                                                                                                                                                                            1\n",
       "MD - Alternate Medicine, Master of Hospital Administration, BHMS                                                                                                                                                                                                                         1\n",
       "MBBS, MD - Skin & VD, DDVL                                                                                                                                                                                                                                                               1\n",
       "MD - Dermatology , Venereology & Leprosy, DNB, MBBS                                                                                                                                                                                                                                      1\n",
       "MBBS, Diploma in Cosmetology                                                                                                                                                                                                                                                             1\n",
       "BHMS, Doctor of Homeopathic Medicine (HMD)                                                                                                                                                                                                                                               1\n",
       "BAMS, MS                                                                                                                                                                                                                                                                                 1\n",
       "MBBS, MD - General Medicine, Certificate Course in Management of Thyroid Disorder, Fellowship in Diabetology(Boston School of Medicine, USA)                                                                                                                                             1\n",
       "BAMS, M. SC in YOGA                                                                                                                                                                                                                                                                      1\n",
       "BHMS, Diploma of Nutrition & Diet Planning                                                                                                                                                                                                                                               1\n",
       "BHMS, MBA                                                                                                                                                                                                                                                                                1\n",
       "BAMS, MD - Acupuncture                                                                                                                                                                                                                                                                   1\n",
       "Name: Qualification, Length: 1801, dtype: int64"
      ]
     },
     "execution_count": 28,
     "metadata": {},
     "output_type": "execute_result"
    }
   ],
   "source": [
    "df['Qualification'].value_counts()"
   ]
  },
  {
   "cell_type": "code",
   "execution_count": 29,
   "metadata": {},
   "outputs": [],
   "source": [
    "df['Qual_1']=df['Qualification'].str.split(',').str[0]"
   ]
  },
  {
   "cell_type": "code",
   "execution_count": 30,
   "metadata": {},
   "outputs": [],
   "source": [
    "def rep(x):\n",
    "    if x=='0':\n",
    "        x=0\n",
    "    else:\n",
    "        x=1\n",
    "        return x"
   ]
  },
  {
   "cell_type": "code",
   "execution_count": 31,
   "metadata": {},
   "outputs": [],
   "source": [
    "df['Qual_1']= df['Qual_1'].apply(lambda x:rep(x))"
   ]
  },
  {
   "cell_type": "code",
   "execution_count": null,
   "metadata": {},
   "outputs": [],
   "source": []
  },
  {
   "cell_type": "code",
   "execution_count": 32,
   "metadata": {},
   "outputs": [],
   "source": [
    "df['Qual_2']=df['Qualification'].str.split(',').str[1]"
   ]
  },
  {
   "cell_type": "code",
   "execution_count": 33,
   "metadata": {},
   "outputs": [],
   "source": [
    "df['Qual_2'].fillna('0',inplace=True)"
   ]
  },
  {
   "cell_type": "code",
   "execution_count": 34,
   "metadata": {},
   "outputs": [],
   "source": [
    "df['Qual_2']= df['Qual_2'].apply(lambda x:rep(x))"
   ]
  },
  {
   "cell_type": "code",
   "execution_count": 35,
   "metadata": {},
   "outputs": [
    {
     "data": {
      "text/plain": [
       "2571"
      ]
     },
     "execution_count": 35,
     "metadata": {},
     "output_type": "execute_result"
    }
   ],
   "source": [
    "df['Qual_2'].isnull().sum()"
   ]
  },
  {
   "cell_type": "code",
   "execution_count": 36,
   "metadata": {},
   "outputs": [],
   "source": [
    "df['Qual_2'].fillna(0,inplace=True)"
   ]
  },
  {
   "cell_type": "code",
   "execution_count": 37,
   "metadata": {},
   "outputs": [
    {
     "data": {
      "text/plain": [
       "array([1., 0.])"
      ]
     },
     "execution_count": 37,
     "metadata": {},
     "output_type": "execute_result"
    }
   ],
   "source": [
    "df['Qual_2'].unique()"
   ]
  },
  {
   "cell_type": "code",
   "execution_count": 38,
   "metadata": {},
   "outputs": [],
   "source": [
    "df['Qual_2']=df['Qual_2'].astype(int)"
   ]
  },
  {
   "cell_type": "code",
   "execution_count": null,
   "metadata": {},
   "outputs": [],
   "source": []
  },
  {
   "cell_type": "code",
   "execution_count": 39,
   "metadata": {},
   "outputs": [],
   "source": [
    "df['Qual_3']=df['Qualification'].str.split(',').str[2]"
   ]
  },
  {
   "cell_type": "code",
   "execution_count": 40,
   "metadata": {},
   "outputs": [],
   "source": [
    "df['Qual_3'].fillna('0',inplace=True)"
   ]
  },
  {
   "cell_type": "code",
   "execution_count": 41,
   "metadata": {},
   "outputs": [],
   "source": [
    "df['Qual_3']= df['Qual_3'].apply(lambda x:rep(x))"
   ]
  },
  {
   "cell_type": "code",
   "execution_count": 42,
   "metadata": {},
   "outputs": [
    {
     "data": {
      "text/plain": [
       "6088"
      ]
     },
     "execution_count": 42,
     "metadata": {},
     "output_type": "execute_result"
    }
   ],
   "source": [
    "df['Qual_3'].isnull().sum()"
   ]
  },
  {
   "cell_type": "code",
   "execution_count": 43,
   "metadata": {},
   "outputs": [],
   "source": [
    "df['Qual_3'].fillna(0,inplace=True)"
   ]
  },
  {
   "cell_type": "code",
   "execution_count": 44,
   "metadata": {},
   "outputs": [
    {
     "data": {
      "text/plain": [
       "array([0., 1.])"
      ]
     },
     "execution_count": 44,
     "metadata": {},
     "output_type": "execute_result"
    }
   ],
   "source": [
    "df['Qual_3'].unique()"
   ]
  },
  {
   "cell_type": "code",
   "execution_count": 45,
   "metadata": {},
   "outputs": [],
   "source": [
    "df['Qual_3']=df['Qual_3'].astype(int)"
   ]
  },
  {
   "cell_type": "code",
   "execution_count": 46,
   "metadata": {},
   "outputs": [
    {
     "name": "stdout",
     "output_type": "stream",
     "text": [
      "<class 'pandas.core.frame.DataFrame'>\n",
      "Int64Index: 7948 entries, 0 to 1986\n",
      "Data columns (total 12 columns):\n",
      "Data                  7948 non-null object\n",
      "Experience            7948 non-null int32\n",
      "Fees                  7948 non-null int64\n",
      "Miscellaneous_Info    4494 non-null object\n",
      "Place                 7948 non-null int32\n",
      "Profile               7948 non-null int32\n",
      "Qualification         7948 non-null object\n",
      "Rating                7948 non-null int32\n",
      "City                  7948 non-null int32\n",
      "Qual_1                7948 non-null int64\n",
      "Qual_2                7948 non-null int32\n",
      "Qual_3                7948 non-null int32\n",
      "dtypes: int32(7), int64(2), object(3)\n",
      "memory usage: 589.9+ KB\n"
     ]
    }
   ],
   "source": [
    "df.info()"
   ]
  },
  {
   "cell_type": "code",
   "execution_count": 47,
   "metadata": {},
   "outputs": [],
   "source": [
    "df.drop(['Qualification'],axis=1,inplace=True)"
   ]
  },
  {
   "cell_type": "markdown",
   "metadata": {},
   "source": [
    "**Miscellaneous_Info Column**"
   ]
  },
  {
   "cell_type": "code",
   "execution_count": 48,
   "metadata": {},
   "outputs": [
    {
     "data": {
      "text/plain": [
       "3980"
      ]
     },
     "execution_count": 48,
     "metadata": {},
     "output_type": "execute_result"
    }
   ],
   "source": [
    "df['Miscellaneous_Info'].nunique()"
   ]
  },
  {
   "cell_type": "code",
   "execution_count": 49,
   "metadata": {},
   "outputs": [],
   "source": [
    "df['Miscellaneous_Info'].fillna('Missing',inplace=True)"
   ]
  },
  {
   "cell_type": "code",
   "execution_count": 50,
   "metadata": {},
   "outputs": [
    {
     "data": {
      "text/plain": [
       "Missing                                                                                                                                          3454\n",
       "Acrylic Partial Denture Crowns and Bridges Fixing Artificial Teeth                                                                                 50\n",
       "Skin Allergy Treatment Skin Allergies Dermabrasion                                                                                                 18\n",
       "Tooth Extraction Dental Fillings Scaling / Polishing                                                                                               16\n",
       "Dental Fillings Zirconia Crowns Dental Implant Fixing                                                                                              15\n",
       "Dermabrasion Laser Resurfacing Acne / Pimples Treatment                                                                                            14\n",
       "Skin Disease Treatment Kidney Stone Treatment Gall Bladder (Biliary) Stone Treatment                                                               10\n",
       "Balance Exercises Acne / Pimples Treatment Insulin Treatment                                                                                       10\n",
       "Acrylic Partial Denture Artificial Teeth BPS Dentures Fixing                                                                                        9\n",
       "Laser Resurfacing Scar Treatment Wart Removal                                                                                                       9\n",
       "Crowns and Bridges Fixing Artificial Teeth Impaction / Impacted Tooth Extraction                                                                    9\n",
       "Cosmetic/ Aesthetic Dentistry Crowns and Bridges Fixing Complete/Partial Dentures Fixing                                                            9\n",
       "Ceramic Veneers / Crowns Tooth Extraction Dental Fillings                                                                                           9\n",
       "Crowns and Bridges Fixing Complete/Partial Dentures Fixing Tooth Extraction                                                                         8\n",
       "Acrylic Partial Denture Artificial Teeth Impaction / Impacted Tooth Extraction                                                                      8\n",
       "Dental Fillings Dental Implant Fixing General Dentistry                                                                                             8\n",
       "Skin Care Bacterial Skin Infection Treatment skin checks                                                                                            8\n",
       "Acne / Pimples Treatment Scar Treatment Wart Removal                                                                                                8\n",
       "Laser Hair Removal Treatment Acne / Pimples Treatment Hair Breakage                                                                                 7\n",
       "Crowns and Bridges Fixing Impaction / Impacted Tooth Extraction Conservative Dentistry                                                              7\n",
       "Orthodontics General Dentistry RCT - Single Sitting                                                                                                 7\n",
       "Crowns and Bridges Fixing Cast Partial Denture Cosmetic/ Aesthetic Dentistry                                                                        7\n",
       "Health Checkup (General) Infectious Disease Treatment Viral Fever Treatment                                                                         7\n",
       "Wrinkle Treatment Allergy Treatment Viral Fever Treatment                                                                                           6\n",
       "Manapakkam, Chennai ₹600 Visits Today                                                                                                               6\n",
       "Dermabrasion Acne / Pimples Treatment Laser Resurfacing                                                                                             5\n",
       "Impaction / Impacted Tooth Extraction Cosmetic/ Aesthetic Dentistry Crowns and Bridges Fixing                                                       5\n",
       "Cosmetic/ Aesthetic Dentistry Crowns and Bridges Fixing Tooth Extraction                                                                            5\n",
       "Impaction / Impacted Tooth Extraction Conservative Dentistry Cosmetic/ Aesthetic Dentistry                                                          5\n",
       "Dermabrasion Wrinkle Treatment Microdermabrasion                                                                                                    5\n",
       "                                                                                                                                                 ... \n",
       "100% 4 Feedback Gulabi Bagh, Delhi                                                                                                                  1\n",
       "Cardiac Ablation Cardioversion Carotid Angioplasty And Stenting                                                                                     1\n",
       "100% 5 Feedback Banashankari 2nd Stage, Bangalore                                                                                                   1\n",
       "90% 14 Feedback Domlur, Bangalore                                                                                                                   1\n",
       "Presurgical Orthodontics Tooth Extraction Tooth Coloured Fillings                                                                                   1\n",
       "Infectious Disease Treatment Health Checkup (General) Immunity Therapy                                                                              1\n",
       "Nasal Endoscopy Hearing Aid Fitting Skull Base Surgery                                                                                              1\n",
       "Skin Care skin checks Bacterial Skin Infection Treatment                                                                                            1\n",
       "Dental Crowns Dental X-Ray General Dentistry                                                                                                        1\n",
       "BPS Dentures Fixing Dental Fillings Tooth Extraction                                                                                                1\n",
       "Diet Counseling Gestational Diabetes Management Diabetes Management                                                                                 1\n",
       "Artificial Teeth Impaction / Impacted Tooth Extraction Scaling / Polishing                                                                          1\n",
       "100% 20 Feedback Jayanagar, Bangalore                                                                                                               1\n",
       "96% 55 Feedback Hitech City, Hyderabad                                                                                                              1\n",
       "96% 54 Feedback Pattom, Thiruvananthapuram                                                                                                          1\n",
       "72% 7 Feedback Gachibowli, Hyderabad                                                                                                                1\n",
       "Microsurgery of the Larynx Reconstructive Middle Ear Surgery Surgery for Snoring                                                                    1\n",
       "98% 45 Feedback Basavanagudi, Bangalore                                                                                                             1\n",
       "3 Feedback Malleswaram, Bangalore ₹500                                                                                                              1\n",
       "94% 27 Feedback KPHB, Hyderabad                                                                                                                     1\n",
       "98% 150 Feedback Madipakkam, Chennai                                                                                                                1\n",
       "100% 11 Feedback Basaveshwaranagar, Bangalore                                                                                                       1\n",
       "100% 10 Feedback LB Nagar, Hyderabad                                                                                                                1\n",
       "Dental Implant Fixing Laser Dentistry Crowns and Bridges Fixing                                                                                     1\n",
       "Crowns and Bridges Fixing Cast Partial Denture Orthodontic Treatment                                                                                1\n",
       "97% 140 Feedback Hebbal, Bangalore                                                                                                                  1\n",
       "Impaction / Impacted Tooth Extraction RCT - Root Canal Treatment Post and Core                                                                      1\n",
       "97% 99 Feedback Dwarka, Delhi                                                                                                                       1\n",
       "82% 47 Feedback Electronics City, Bangalore                                                                                                         1\n",
       "Restoring worn dentition Temporomandibular Problems Extra-oral Maxillofacial Prosthesis.(Ear prosthesis,Eye Prosthesis and Facial Prosthesis)       1\n",
       "Name: Miscellaneous_Info, Length: 3981, dtype: int64"
      ]
     },
     "execution_count": 50,
     "metadata": {},
     "output_type": "execute_result"
    }
   ],
   "source": [
    "df['Miscellaneous_Info'].value_counts()"
   ]
  },
  {
   "cell_type": "code",
   "execution_count": 51,
   "metadata": {},
   "outputs": [],
   "source": [
    "df.drop(['Miscellaneous_Info'],axis=1,inplace=True)"
   ]
  },
  {
   "cell_type": "code",
   "execution_count": 52,
   "metadata": {},
   "outputs": [
    {
     "data": {
      "text/html": [
       "<div>\n",
       "<style scoped>\n",
       "    .dataframe tbody tr th:only-of-type {\n",
       "        vertical-align: middle;\n",
       "    }\n",
       "\n",
       "    .dataframe tbody tr th {\n",
       "        vertical-align: top;\n",
       "    }\n",
       "\n",
       "    .dataframe thead th {\n",
       "        text-align: right;\n",
       "    }\n",
       "</style>\n",
       "<table border=\"1\" class=\"dataframe\">\n",
       "  <thead>\n",
       "    <tr style=\"text-align: right;\">\n",
       "      <th></th>\n",
       "      <th>Data</th>\n",
       "      <th>Experience</th>\n",
       "      <th>Fees</th>\n",
       "      <th>Place</th>\n",
       "      <th>Profile</th>\n",
       "      <th>Rating</th>\n",
       "      <th>City</th>\n",
       "      <th>Qual_1</th>\n",
       "      <th>Qual_2</th>\n",
       "      <th>Qual_3</th>\n",
       "    </tr>\n",
       "  </thead>\n",
       "  <tbody>\n",
       "    <tr>\n",
       "      <th>0</th>\n",
       "      <td>Train</td>\n",
       "      <td>24</td>\n",
       "      <td>100</td>\n",
       "      <td>324</td>\n",
       "      <td>5</td>\n",
       "      <td>100</td>\n",
       "      <td>4</td>\n",
       "      <td>1</td>\n",
       "      <td>1</td>\n",
       "      <td>0</td>\n",
       "    </tr>\n",
       "    <tr>\n",
       "      <th>1</th>\n",
       "      <td>Train</td>\n",
       "      <td>12</td>\n",
       "      <td>350</td>\n",
       "      <td>926</td>\n",
       "      <td>0</td>\n",
       "      <td>98</td>\n",
       "      <td>0</td>\n",
       "      <td>1</td>\n",
       "      <td>1</td>\n",
       "      <td>0</td>\n",
       "    </tr>\n",
       "    <tr>\n",
       "      <th>2</th>\n",
       "      <td>Train</td>\n",
       "      <td>9</td>\n",
       "      <td>300</td>\n",
       "      <td>494</td>\n",
       "      <td>3</td>\n",
       "      <td>0</td>\n",
       "      <td>0</td>\n",
       "      <td>1</td>\n",
       "      <td>1</td>\n",
       "      <td>0</td>\n",
       "    </tr>\n",
       "    <tr>\n",
       "      <th>3</th>\n",
       "      <td>Train</td>\n",
       "      <td>12</td>\n",
       "      <td>250</td>\n",
       "      <td>74</td>\n",
       "      <td>0</td>\n",
       "      <td>0</td>\n",
       "      <td>0</td>\n",
       "      <td>1</td>\n",
       "      <td>1</td>\n",
       "      <td>0</td>\n",
       "    </tr>\n",
       "    <tr>\n",
       "      <th>4</th>\n",
       "      <td>Train</td>\n",
       "      <td>20</td>\n",
       "      <td>250</td>\n",
       "      <td>367</td>\n",
       "      <td>0</td>\n",
       "      <td>100</td>\n",
       "      <td>1</td>\n",
       "      <td>1</td>\n",
       "      <td>0</td>\n",
       "      <td>0</td>\n",
       "    </tr>\n",
       "  </tbody>\n",
       "</table>\n",
       "</div>"
      ],
      "text/plain": [
       "    Data  Experience  Fees  Place  Profile  Rating  City  Qual_1  Qual_2  \\\n",
       "0  Train          24   100    324        5     100     4       1       1   \n",
       "1  Train          12   350    926        0      98     0       1       1   \n",
       "2  Train           9   300    494        3       0     0       1       1   \n",
       "3  Train          12   250     74        0       0     0       1       1   \n",
       "4  Train          20   250    367        0     100     1       1       0   \n",
       "\n",
       "   Qual_3  \n",
       "0       0  \n",
       "1       0  \n",
       "2       0  \n",
       "3       0  \n",
       "4       0  "
      ]
     },
     "execution_count": 52,
     "metadata": {},
     "output_type": "execute_result"
    }
   ],
   "source": [
    "df.head()"
   ]
  },
  {
   "cell_type": "code",
   "execution_count": 53,
   "metadata": {},
   "outputs": [],
   "source": [
    "df['Total_qual']=df.iloc[:,-3:].sum(axis=1)"
   ]
  },
  {
   "cell_type": "code",
   "execution_count": 54,
   "metadata": {},
   "outputs": [],
   "source": [
    "df.drop(df.columns[[6,7,8]], axis = 1, inplace = True)"
   ]
  },
  {
   "cell_type": "code",
   "execution_count": 55,
   "metadata": {},
   "outputs": [
    {
     "data": {
      "text/html": [
       "<div>\n",
       "<style scoped>\n",
       "    .dataframe tbody tr th:only-of-type {\n",
       "        vertical-align: middle;\n",
       "    }\n",
       "\n",
       "    .dataframe tbody tr th {\n",
       "        vertical-align: top;\n",
       "    }\n",
       "\n",
       "    .dataframe thead th {\n",
       "        text-align: right;\n",
       "    }\n",
       "</style>\n",
       "<table border=\"1\" class=\"dataframe\">\n",
       "  <thead>\n",
       "    <tr style=\"text-align: right;\">\n",
       "      <th></th>\n",
       "      <th>Data</th>\n",
       "      <th>Experience</th>\n",
       "      <th>Fees</th>\n",
       "      <th>Place</th>\n",
       "      <th>Profile</th>\n",
       "      <th>Rating</th>\n",
       "      <th>Qual_3</th>\n",
       "      <th>Total_qual</th>\n",
       "    </tr>\n",
       "  </thead>\n",
       "  <tbody>\n",
       "    <tr>\n",
       "      <th>0</th>\n",
       "      <td>Train</td>\n",
       "      <td>24</td>\n",
       "      <td>100</td>\n",
       "      <td>324</td>\n",
       "      <td>5</td>\n",
       "      <td>100</td>\n",
       "      <td>0</td>\n",
       "      <td>2</td>\n",
       "    </tr>\n",
       "    <tr>\n",
       "      <th>1</th>\n",
       "      <td>Train</td>\n",
       "      <td>12</td>\n",
       "      <td>350</td>\n",
       "      <td>926</td>\n",
       "      <td>0</td>\n",
       "      <td>98</td>\n",
       "      <td>0</td>\n",
       "      <td>2</td>\n",
       "    </tr>\n",
       "    <tr>\n",
       "      <th>2</th>\n",
       "      <td>Train</td>\n",
       "      <td>9</td>\n",
       "      <td>300</td>\n",
       "      <td>494</td>\n",
       "      <td>3</td>\n",
       "      <td>0</td>\n",
       "      <td>0</td>\n",
       "      <td>2</td>\n",
       "    </tr>\n",
       "    <tr>\n",
       "      <th>3</th>\n",
       "      <td>Train</td>\n",
       "      <td>12</td>\n",
       "      <td>250</td>\n",
       "      <td>74</td>\n",
       "      <td>0</td>\n",
       "      <td>0</td>\n",
       "      <td>0</td>\n",
       "      <td>2</td>\n",
       "    </tr>\n",
       "    <tr>\n",
       "      <th>4</th>\n",
       "      <td>Train</td>\n",
       "      <td>20</td>\n",
       "      <td>250</td>\n",
       "      <td>367</td>\n",
       "      <td>0</td>\n",
       "      <td>100</td>\n",
       "      <td>0</td>\n",
       "      <td>1</td>\n",
       "    </tr>\n",
       "  </tbody>\n",
       "</table>\n",
       "</div>"
      ],
      "text/plain": [
       "    Data  Experience  Fees  Place  Profile  Rating  Qual_3  Total_qual\n",
       "0  Train          24   100    324        5     100       0           2\n",
       "1  Train          12   350    926        0      98       0           2\n",
       "2  Train           9   300    494        3       0       0           2\n",
       "3  Train          12   250     74        0       0       0           2\n",
       "4  Train          20   250    367        0     100       0           1"
      ]
     },
     "execution_count": 55,
     "metadata": {},
     "output_type": "execute_result"
    }
   ],
   "source": [
    "df.head()"
   ]
  },
  {
   "cell_type": "code",
   "execution_count": 56,
   "metadata": {},
   "outputs": [
    {
     "name": "stdout",
     "output_type": "stream",
     "text": [
      "<class 'pandas.core.frame.DataFrame'>\n",
      "Int64Index: 7948 entries, 0 to 1986\n",
      "Data columns (total 8 columns):\n",
      "Data          7948 non-null object\n",
      "Experience    7948 non-null int32\n",
      "Fees          7948 non-null int64\n",
      "Place         7948 non-null int32\n",
      "Profile       7948 non-null int32\n",
      "Rating        7948 non-null int32\n",
      "Qual_3        7948 non-null int32\n",
      "Total_qual    7948 non-null int64\n",
      "dtypes: int32(5), int64(2), object(1)\n",
      "memory usage: 403.6+ KB\n"
     ]
    }
   ],
   "source": [
    "df.info()"
   ]
  },
  {
   "cell_type": "code",
   "execution_count": 57,
   "metadata": {},
   "outputs": [],
   "source": [
    "Trainfinal=df.loc[df['Data']=='Train']\n",
    "Testfinal=df.loc[df['Data']=='Test']"
   ]
  },
  {
   "cell_type": "code",
   "execution_count": 58,
   "metadata": {},
   "outputs": [],
   "source": [
    "Trainfinal.drop(['Data'],axis=1,inplace=True)\n",
    "Testfinal.drop(['Data'],axis=1,inplace=True)"
   ]
  },
  {
   "cell_type": "code",
   "execution_count": 59,
   "metadata": {},
   "outputs": [
    {
     "data": {
      "text/plain": [
       "<matplotlib.axes._subplots.AxesSubplot at 0x1c416be08d0>"
      ]
     },
     "execution_count": 59,
     "metadata": {},
     "output_type": "execute_result"
    },
    {
     "data": {
      "image/png": "[encoded data removed]",
      "text/plain": [
       "<Figure size 432x288 with 1 Axes>"
      ]
     },
     "metadata": {
      "needs_background": "light"
     },
     "output_type": "display_data"
    }
   ],
   "source": [
    "sns.distplot(Trainfinal['Fees'])"
   ]
  },
  {
   "cell_type": "code",
   "execution_count": 60,
   "metadata": {},
   "outputs": [
    {
     "data": {
      "text/plain": [
       "<matplotlib.axes._subplots.AxesSubplot at 0x1c417f08be0>"
      ]
     },
     "execution_count": 60,
     "metadata": {},
     "output_type": "execute_result"
    },
    {
     "data": {
      "image/png": "[encoded data removed]",
      "text/plain": [
       "<Figure size 432x288 with 1 Axes>"
      ]
     },
     "metadata": {
      "needs_background": "light"
     },
     "output_type": "display_data"
    }
   ],
   "source": [
    "sns.boxplot(Trainfinal['Fees'])"
   ]
  },
  {
   "cell_type": "code",
   "execution_count": 61,
   "metadata": {},
   "outputs": [
    {
     "data": {
      "text/html": [
       "<div>\n",
       "<style scoped>\n",
       "    .dataframe tbody tr th:only-of-type {\n",
       "        vertical-align: middle;\n",
       "    }\n",
       "\n",
       "    .dataframe tbody tr th {\n",
       "        vertical-align: top;\n",
       "    }\n",
       "\n",
       "    .dataframe thead th {\n",
       "        text-align: right;\n",
       "    }\n",
       "</style>\n",
       "<table border=\"1\" class=\"dataframe\">\n",
       "  <thead>\n",
       "    <tr style=\"text-align: right;\">\n",
       "      <th></th>\n",
       "      <th>Experience</th>\n",
       "      <th>Place</th>\n",
       "      <th>Profile</th>\n",
       "      <th>Rating</th>\n",
       "      <th>Qual_3</th>\n",
       "      <th>Total_qual</th>\n",
       "    </tr>\n",
       "  </thead>\n",
       "  <tbody>\n",
       "    <tr>\n",
       "      <th>0</th>\n",
       "      <td>24</td>\n",
       "      <td>324</td>\n",
       "      <td>5</td>\n",
       "      <td>100</td>\n",
       "      <td>0</td>\n",
       "      <td>2</td>\n",
       "    </tr>\n",
       "    <tr>\n",
       "      <th>1</th>\n",
       "      <td>12</td>\n",
       "      <td>926</td>\n",
       "      <td>0</td>\n",
       "      <td>98</td>\n",
       "      <td>0</td>\n",
       "      <td>2</td>\n",
       "    </tr>\n",
       "    <tr>\n",
       "      <th>2</th>\n",
       "      <td>9</td>\n",
       "      <td>494</td>\n",
       "      <td>3</td>\n",
       "      <td>0</td>\n",
       "      <td>0</td>\n",
       "      <td>2</td>\n",
       "    </tr>\n",
       "    <tr>\n",
       "      <th>3</th>\n",
       "      <td>12</td>\n",
       "      <td>74</td>\n",
       "      <td>0</td>\n",
       "      <td>0</td>\n",
       "      <td>0</td>\n",
       "      <td>2</td>\n",
       "    </tr>\n",
       "    <tr>\n",
       "      <th>4</th>\n",
       "      <td>20</td>\n",
       "      <td>367</td>\n",
       "      <td>0</td>\n",
       "      <td>100</td>\n",
       "      <td>0</td>\n",
       "      <td>1</td>\n",
       "    </tr>\n",
       "  </tbody>\n",
       "</table>\n",
       "</div>"
      ],
      "text/plain": [
       "   Experience  Place  Profile  Rating  Qual_3  Total_qual\n",
       "0          24    324        5     100       0           2\n",
       "1          12    926        0      98       0           2\n",
       "2           9    494        3       0       0           2\n",
       "3          12     74        0       0       0           2\n",
       "4          20    367        0     100       0           1"
      ]
     },
     "execution_count": 61,
     "metadata": {},
     "output_type": "execute_result"
    }
   ],
   "source": [
    "x=Trainfinal.drop(['Fees'],axis=1)\n",
    "x.head()"
   ]
  },
  {
   "cell_type": "code",
   "execution_count": 62,
   "metadata": {},
   "outputs": [],
   "source": [
    "from sklearn.preprocessing import StandardScaler\n",
    "ss=StandardScaler()\n",
    "x=ss.fit_transform(x)"
   ]
  },
  {
   "cell_type": "code",
   "execution_count": 63,
   "metadata": {},
   "outputs": [
    {
     "data": {
      "text/plain": [
       "0    100\n",
       "1    350\n",
       "2    300\n",
       "3    250\n",
       "4    250\n",
       "Name: Fees, dtype: int64"
      ]
     },
     "execution_count": 63,
     "metadata": {},
     "output_type": "execute_result"
    }
   ],
   "source": [
    "y=Trainfinal['Fees']\n",
    "y.head()"
   ]
  },
  {
   "cell_type": "code",
   "execution_count": 64,
   "metadata": {},
   "outputs": [],
   "source": [
    "from sklearn.model_selection import train_test_split,cross_val_score"
   ]
  },
  {
   "cell_type": "code",
   "execution_count": 65,
   "metadata": {},
   "outputs": [],
   "source": [
    "x_train,x_test,y_train,y_test=train_test_split(x,y,test_size=0.3,random_state=97)"
   ]
  },
  {
   "cell_type": "code",
   "execution_count": 66,
   "metadata": {},
   "outputs": [
    {
     "name": "stdout",
     "output_type": "stream",
     "text": [
      "(4172, 6) (1789, 6)\n"
     ]
    }
   ],
   "source": [
    "print(x_train.shape,x_test.shape)"
   ]
  },
  {
   "cell_type": "code",
   "execution_count": 67,
   "metadata": {},
   "outputs": [
    {
     "name": "stdout",
     "output_type": "stream",
     "text": [
      "(4172,) (1789,)\n"
     ]
    }
   ],
   "source": [
    "print(y_train.shape,y_test.shape)"
   ]
  },
  {
   "cell_type": "code",
   "execution_count": 68,
   "metadata": {},
   "outputs": [],
   "source": [
    "from sklearn.linear_model import LinearRegression,Lasso,Ridge,ElasticNet\n",
    "from sklearn.tree import DecisionTreeRegressor\n",
    "from sklearn.neighbors import KNeighborsRegressor\n",
    "from sklearn.svm import SVR\n",
    "from sklearn.ensemble import RandomForestRegressor,AdaBoostRegressor,GradientBoostingRegressor\n",
    "from xgboost import XGBRegressor\n",
    "from sklearn.metrics import r2_score,mean_squared_error"
   ]
  },
  {
   "cell_type": "code",
   "execution_count": 69,
   "metadata": {},
   "outputs": [],
   "source": [
    "LR=LinearRegression()\n",
    "LA=Lasso()\n",
    "RI=Ridge()\n",
    "EN=ElasticNet()\n",
    "KNR=KNeighborsRegressor()\n",
    "SV=SVR()\n",
    "DTR=DecisionTreeRegressor(random_state=97)\n",
    "ABR=AdaBoostRegressor(random_state=97)\n",
    "RFR=RandomForestRegressor(random_state=97)\n",
    "GBR=GradientBoostingRegressor(random_state=97)\n",
    "XGR=XGBRegressor(random_state=97)"
   ]
  },
  {
   "cell_type": "code",
   "execution_count": 70,
   "metadata": {},
   "outputs": [],
   "source": [
    "models=[]\n",
    "models.append(('LinearRegression',LR))\n",
    "models.append(('Lasso',LA))\n",
    "models.append(('Ridge',RI))\n",
    "models.append(('ElasticNet',EN))\n",
    "models.append(('DecisionTreeRegressor',DTR))\n",
    "models.append(('SVR',SV))\n",
    "models.append(('KNeighborsRegressor',KNR))\n",
    "models.append(('AdaBoostRegressor',ABR))\n",
    "models.append(('RandomForestRegressor',RFR))\n",
    "models.append(('GradientBoostingRegressor',GBR))\n",
    "models.append(('XGBRegressor',XGR))"
   ]
  },
  {
   "cell_type": "code",
   "execution_count": 71,
   "metadata": {},
   "outputs": [
    {
     "name": "stdout",
     "output_type": "stream",
     "text": [
      "********************************* LinearRegression *********************************\n",
      "\n",
      " LinearRegression(copy_X=True, fit_intercept=True, n_jobs=None,\n",
      "         normalize=False)\n",
      "R2_score =  0.08543339154104235\n",
      "Mean_Squared_Error = 33309.24635124849\n",
      "RMSE=  182.50820899687906\n",
      "Cross_Val_Score =  0.10552463820191213\n",
      "\n",
      "\n",
      "********************************* Lasso *********************************\n",
      "\n",
      " Lasso(alpha=1.0, copy_X=True, fit_intercept=True, max_iter=1000,\n",
      "   normalize=False, positive=False, precompute=False, random_state=None,\n",
      "   selection='cyclic', tol=0.0001, warm_start=False)\n",
      "R2_score =  0.08545826708519622\n",
      "Mean_Squared_Error = 33308.34036406212\n",
      "RMSE=  182.50572693497077\n",
      "Cross_Val_Score =  0.10511378831385956\n",
      "\n",
      "\n",
      "********************************* Ridge *********************************\n",
      "\n",
      " Ridge(alpha=1.0, copy_X=True, fit_intercept=True, max_iter=None,\n",
      "   normalize=False, random_state=None, solver='auto', tol=0.001)\n",
      "R2_score =  0.0854322331013444\n",
      "Mean_Squared_Error = 33309.28854254754\n",
      "RMSE=  182.50832458424338\n",
      "Cross_Val_Score =  0.10552509070135696\n",
      "\n",
      "\n",
      "********************************* ElasticNet *********************************\n",
      "\n",
      " ElasticNet(alpha=1.0, copy_X=True, fit_intercept=True, l1_ratio=0.5,\n",
      "      max_iter=1000, normalize=False, positive=False, precompute=False,\n",
      "      random_state=None, selection='cyclic', tol=0.0001, warm_start=False)\n",
      "R2_score =  0.07396368017065147\n",
      "Mean_Squared_Error = 33726.982400302164\n",
      "RMSE=  183.64907405239526\n",
      "Cross_Val_Score =  0.08849927580574016\n",
      "\n",
      "\n",
      "********************************* DecisionTreeRegressor *********************************\n",
      "\n",
      " DecisionTreeRegressor(criterion='mse', max_depth=None, max_features=None,\n",
      "           max_leaf_nodes=None, min_impurity_decrease=0.0,\n",
      "           min_impurity_split=None, min_samples_leaf=1,\n",
      "           min_samples_split=2, min_weight_fraction_leaf=0.0,\n",
      "           presort=False, random_state=97, splitter='best')\n",
      "R2_score =  -0.5736851105892657\n",
      "Mean_Squared_Error = 57314.86864169927\n",
      "RMSE=  239.40523937812904\n",
      "Cross_Val_Score =  -0.583666933254342\n",
      "\n",
      "\n",
      "********************************* SVR *********************************\n",
      "\n",
      " SVR(C=1.0, cache_size=200, coef0=0.0, degree=3, epsilon=0.1,\n",
      "  gamma='auto_deprecated', kernel='rbf', max_iter=-1, shrinking=True,\n",
      "  tol=0.001, verbose=False)\n",
      "R2_score =  0.05037040153752548\n",
      "Mean_Squared_Error = 34586.268452248274\n",
      "RMSE=  185.9738380854906\n",
      "Cross_Val_Score =  0.07576215096508802\n",
      "\n",
      "\n",
      "********************************* KNeighborsRegressor *********************************\n",
      "\n",
      " KNeighborsRegressor(algorithm='auto', leaf_size=30, metric='minkowski',\n",
      "          metric_params=None, n_jobs=None, n_neighbors=5, p=2,\n",
      "          weights='uniform')\n",
      "R2_score =  0.026075307809754533\n",
      "Mean_Squared_Error = 35471.11517048631\n",
      "RMSE=  188.33776883696564\n",
      "Cross_Val_Score =  0.02045482624406496\n",
      "\n",
      "\n",
      "********************************* AdaBoostRegressor *********************************\n",
      "\n",
      " AdaBoostRegressor(base_estimator=None, learning_rate=1.0, loss='linear',\n",
      "         n_estimators=50, random_state=97)\n",
      "R2_score =  0.10831590474672825\n",
      "Mean_Squared_Error = 32475.846943863395\n",
      "RMSE=  180.21056279769894\n",
      "Cross_Val_Score =  0.11505177362943586\n",
      "\n",
      "\n",
      "********************************* RandomForestRegressor *********************************\n",
      "\n",
      " RandomForestRegressor(bootstrap=True, criterion='mse', max_depth=None,\n",
      "           max_features='auto', max_leaf_nodes=None,\n",
      "           min_impurity_decrease=0.0, min_impurity_split=None,\n",
      "           min_samples_leaf=1, min_samples_split=2,\n",
      "           min_weight_fraction_leaf=0.0, n_estimators='warn', n_jobs=None,\n",
      "           oob_score=False, random_state=97, verbose=0, warm_start=False)\n",
      "R2_score =  0.004144656611767217\n",
      "Mean_Squared_Error = 36269.847003291725\n",
      "RMSE=  190.4464412985754\n",
      "Cross_Val_Score =  0.06093639983588256\n",
      "\n",
      "\n",
      "********************************* GradientBoostingRegressor *********************************\n",
      "\n",
      " GradientBoostingRegressor(alpha=0.9, criterion='friedman_mse', init=None,\n",
      "             learning_rate=0.1, loss='ls', max_depth=3, max_features=None,\n",
      "             max_leaf_nodes=None, min_impurity_decrease=0.0,\n",
      "             min_impurity_split=None, min_samples_leaf=1,\n",
      "             min_samples_split=2, min_weight_fraction_leaf=0.0,\n",
      "             n_estimators=100, n_iter_no_change=None, presort='auto',\n",
      "             random_state=97, subsample=1.0, tol=0.0001,\n",
      "             validation_fraction=0.1, verbose=0, warm_start=False)\n",
      "R2_score =  0.18108723479335753\n",
      "Mean_Squared_Error = 29825.456980560943\n",
      "RMSE=  172.70048344043784\n",
      "Cross_Val_Score =  0.19482218116942135\n",
      "\n",
      "\n",
      "********************************* XGBRegressor *********************************\n",
      "\n",
      " XGBRegressor(base_score=0.5, booster='gbtree', colsample_bylevel=1,\n",
      "       colsample_bynode=1, colsample_bytree=1, gamma=0,\n",
      "       importance_type='gain', learning_rate=0.1, max_delta_step=0,\n",
      "       max_depth=3, min_child_weight=1, missing=None, n_estimators=100,\n",
      "       n_jobs=1, nthread=None, objective='reg:linear', random_state=97,\n",
      "       reg_alpha=0, reg_lambda=1, scale_pos_weight=1, seed=None,\n",
      "       silent=None, subsample=1, verbosity=1)\n",
      "[20:13:22] WARNING: C:/Jenkins/workspace/xgboost-win64_release_0.90/src/objective/regression_obj.cu:152: reg:linear is now deprecated in favor of reg:squarederror.\n",
      "R2_score =  0.17800713964260528\n",
      "Mean_Squared_Error = 29937.636506046314\n",
      "RMSE=  173.02495919966665\n",
      "[20:13:22] WARNING: C:/Jenkins/workspace/xgboost-win64_release_0.90/src/objective/regression_obj.cu:152: reg:linear is now deprecated in favor of reg:squarederror.\n",
      "[20:13:23] WARNING: C:/Jenkins/workspace/xgboost-win64_release_0.90/src/objective/regression_obj.cu:152: reg:linear is now deprecated in favor of reg:squarederror.\n",
      "[20:13:23] WARNING: C:/Jenkins/workspace/xgboost-win64_release_0.90/src/objective/regression_obj.cu:152: reg:linear is now deprecated in favor of reg:squarederror.\n",
      "[20:13:23] WARNING: C:/Jenkins/workspace/xgboost-win64_release_0.90/src/objective/regression_obj.cu:152: reg:linear is now deprecated in favor of reg:squarederror.\n",
      "[20:13:23] WARNING: C:/Jenkins/workspace/xgboost-win64_release_0.90/src/objective/regression_obj.cu:152: reg:linear is now deprecated in favor of reg:squarederror.\n",
      "[20:13:24] WARNING: C:/Jenkins/workspace/xgboost-win64_release_0.90/src/objective/regression_obj.cu:152: reg:linear is now deprecated in favor of reg:squarederror.\n",
      "[20:13:24] WARNING: C:/Jenkins/workspace/xgboost-win64_release_0.90/src/objective/regression_obj.cu:152: reg:linear is now deprecated in favor of reg:squarederror.\n",
      "[20:13:24] WARNING: C:/Jenkins/workspace/xgboost-win64_release_0.90/src/objective/regression_obj.cu:152: reg:linear is now deprecated in favor of reg:squarederror.\n",
      "[20:13:24] WARNING: C:/Jenkins/workspace/xgboost-win64_release_0.90/src/objective/regression_obj.cu:152: reg:linear is now deprecated in favor of reg:squarederror.\n",
      "[20:13:24] WARNING: C:/Jenkins/workspace/xgboost-win64_release_0.90/src/objective/regression_obj.cu:152: reg:linear is now deprecated in favor of reg:squarederror.\n",
      "Cross_Val_Score =  0.19490291154239767\n",
      "\n",
      "\n"
     ]
    }
   ],
   "source": [
    "Model=[]\n",
    "R2_score=[]\n",
    "cvs=[]\n",
    "MSE=[]\n",
    "rmse=[]\n",
    "for name,model in models:\n",
    "    print('*********************************',name,'*********************************')\n",
    "    print('\\n',model)\n",
    "    Model.append(name)\n",
    "    model.fit(x_train,y_train)\n",
    "    pre=model.predict(x_test)\n",
    "    r2=r2_score(y_test,pre)\n",
    "    print('R2_score = ',r2)\n",
    "    R2_score.append(r2)\n",
    "    mse=mean_squared_error(y_test,pre)\n",
    "    print(\"Mean_Squared_Error =\",mse)\n",
    "    MSE.append(round(mse,3))\n",
    "    b=np.sqrt(mse)\n",
    "    print('RMSE= ',b)\n",
    "    rmse.append(b)\n",
    "    score= cross_val_score(model,x,y,cv=10,scoring='r2').mean()\n",
    "    print('Cross_Val_Score = ',score)\n",
    "    cvs.append(score)\n",
    "    print('\\n')"
   ]
  },
  {
   "cell_type": "code",
   "execution_count": 72,
   "metadata": {},
   "outputs": [
    {
     "data": {
      "text/html": [
       "<div>\n",
       "<style scoped>\n",
       "    .dataframe tbody tr th:only-of-type {\n",
       "        vertical-align: middle;\n",
       "    }\n",
       "\n",
       "    .dataframe tbody tr th {\n",
       "        vertical-align: top;\n",
       "    }\n",
       "\n",
       "    .dataframe thead th {\n",
       "        text-align: right;\n",
       "    }\n",
       "</style>\n",
       "<table border=\"1\" class=\"dataframe\">\n",
       "  <thead>\n",
       "    <tr style=\"text-align: right;\">\n",
       "      <th></th>\n",
       "      <th>Model</th>\n",
       "      <th>R2_score</th>\n",
       "      <th>Mean_Squared_Error</th>\n",
       "      <th>RMSE</th>\n",
       "      <th>Cross_val_score</th>\n",
       "    </tr>\n",
       "  </thead>\n",
       "  <tbody>\n",
       "    <tr>\n",
       "      <th>0</th>\n",
       "      <td>LinearRegression</td>\n",
       "      <td>0.085433</td>\n",
       "      <td>33309.246</td>\n",
       "      <td>182.508209</td>\n",
       "      <td>0.105525</td>\n",
       "    </tr>\n",
       "    <tr>\n",
       "      <th>1</th>\n",
       "      <td>Lasso</td>\n",
       "      <td>0.085458</td>\n",
       "      <td>33308.340</td>\n",
       "      <td>182.505727</td>\n",
       "      <td>0.105114</td>\n",
       "    </tr>\n",
       "    <tr>\n",
       "      <th>2</th>\n",
       "      <td>Ridge</td>\n",
       "      <td>0.085432</td>\n",
       "      <td>33309.289</td>\n",
       "      <td>182.508325</td>\n",
       "      <td>0.105525</td>\n",
       "    </tr>\n",
       "    <tr>\n",
       "      <th>3</th>\n",
       "      <td>ElasticNet</td>\n",
       "      <td>0.073964</td>\n",
       "      <td>33726.982</td>\n",
       "      <td>183.649074</td>\n",
       "      <td>0.088499</td>\n",
       "    </tr>\n",
       "    <tr>\n",
       "      <th>4</th>\n",
       "      <td>DecisionTreeRegressor</td>\n",
       "      <td>-0.573685</td>\n",
       "      <td>57314.869</td>\n",
       "      <td>239.405239</td>\n",
       "      <td>-0.583667</td>\n",
       "    </tr>\n",
       "    <tr>\n",
       "      <th>5</th>\n",
       "      <td>SVR</td>\n",
       "      <td>0.050370</td>\n",
       "      <td>34586.268</td>\n",
       "      <td>185.973838</td>\n",
       "      <td>0.075762</td>\n",
       "    </tr>\n",
       "    <tr>\n",
       "      <th>6</th>\n",
       "      <td>KNeighborsRegressor</td>\n",
       "      <td>0.026075</td>\n",
       "      <td>35471.115</td>\n",
       "      <td>188.337769</td>\n",
       "      <td>0.020455</td>\n",
       "    </tr>\n",
       "    <tr>\n",
       "      <th>7</th>\n",
       "      <td>AdaBoostRegressor</td>\n",
       "      <td>0.108316</td>\n",
       "      <td>32475.847</td>\n",
       "      <td>180.210563</td>\n",
       "      <td>0.115052</td>\n",
       "    </tr>\n",
       "    <tr>\n",
       "      <th>8</th>\n",
       "      <td>RandomForestRegressor</td>\n",
       "      <td>0.004145</td>\n",
       "      <td>36269.847</td>\n",
       "      <td>190.446441</td>\n",
       "      <td>0.060936</td>\n",
       "    </tr>\n",
       "    <tr>\n",
       "      <th>9</th>\n",
       "      <td>GradientBoostingRegressor</td>\n",
       "      <td>0.181087</td>\n",
       "      <td>29825.457</td>\n",
       "      <td>172.700483</td>\n",
       "      <td>0.194822</td>\n",
       "    </tr>\n",
       "    <tr>\n",
       "      <th>10</th>\n",
       "      <td>XGBRegressor</td>\n",
       "      <td>0.178007</td>\n",
       "      <td>29937.637</td>\n",
       "      <td>173.024959</td>\n",
       "      <td>0.194903</td>\n",
       "    </tr>\n",
       "  </tbody>\n",
       "</table>\n",
       "</div>"
      ],
      "text/plain": [
       "                        Model  R2_score  Mean_Squared_Error        RMSE  \\\n",
       "0            LinearRegression  0.085433           33309.246  182.508209   \n",
       "1                       Lasso  0.085458           33308.340  182.505727   \n",
       "2                       Ridge  0.085432           33309.289  182.508325   \n",
       "3                  ElasticNet  0.073964           33726.982  183.649074   \n",
       "4       DecisionTreeRegressor -0.573685           57314.869  239.405239   \n",
       "5                         SVR  0.050370           34586.268  185.973838   \n",
       "6         KNeighborsRegressor  0.026075           35471.115  188.337769   \n",
       "7           AdaBoostRegressor  0.108316           32475.847  180.210563   \n",
       "8       RandomForestRegressor  0.004145           36269.847  190.446441   \n",
       "9   GradientBoostingRegressor  0.181087           29825.457  172.700483   \n",
       "10               XGBRegressor  0.178007           29937.637  173.024959   \n",
       "\n",
       "    Cross_val_score  \n",
       "0          0.105525  \n",
       "1          0.105114  \n",
       "2          0.105525  \n",
       "3          0.088499  \n",
       "4         -0.583667  \n",
       "5          0.075762  \n",
       "6          0.020455  \n",
       "7          0.115052  \n",
       "8          0.060936  \n",
       "9          0.194822  \n",
       "10         0.194903  "
      ]
     },
     "execution_count": 72,
     "metadata": {},
     "output_type": "execute_result"
    }
   ],
   "source": [
    "result = pd.DataFrame({'Model': Model, 'R2_score': R2_score ,'Mean_Squared_Error' :MSE,'RMSE' : rmse ,'Cross_val_score':cvs})\n",
    "result"
   ]
  },
  {
   "cell_type": "markdown",
   "metadata": {},
   "source": [
    "**I choose GradientBoostingRegressor as my final model because it has very less Root_Mean_Squared_Error**"
   ]
  },
  {
   "cell_type": "markdown",
   "metadata": {},
   "source": [
    "RMSE = 172.700483"
   ]
  },
  {
   "cell_type": "code",
   "execution_count": null,
   "metadata": {},
   "outputs": [],
   "source": []
  },
  {
   "cell_type": "code",
   "execution_count": null,
   "metadata": {},
   "outputs": [],
   "source": []
  }
 ],
 "metadata": {
  "kernelspec": {
   "display_name": "Python 3",
   "language": "python",
   "name": "python3"
  },
  "language_info": {
   "codemirror_mode": {
    "name": "ipython",
    "version": 3
   },
   "file_extension": ".py",
   "mimetype": "text/x-python",
   "name": "python",
   "nbconvert_exporter": "python",
   "pygments_lexer": "ipython3",
   "version": "3.7.3"
  }
 },
 "nbformat": 4,
 "nbformat_minor": 2
}
